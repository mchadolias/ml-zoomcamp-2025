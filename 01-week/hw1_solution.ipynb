{
 "cells": [
  {
   "cell_type": "code",
   "execution_count": null,
   "id": "9409cbe7",
   "metadata": {},
   "outputs": [],
   "source": [
    "import pandas as pd \n",
    "import numpy as np\n",
    "import matplotlib.pyplot as plt\n",
    "import seaborn as sns"
   ]
  },
  {
   "cell_type": "markdown",
   "id": "bc55ab5f",
   "metadata": {},
   "source": [
    "### Q1: What is the version of Pandas that you installed?"
   ]
  },
  {
   "cell_type": "code",
   "execution_count": null,
   "id": "eda889a6",
   "metadata": {},
   "outputs": [],
   "source": [
    "pd.__version__"
   ]
  },
  {
   "cell_type": "code",
   "execution_count": null,
   "id": "2c6cb9e3",
   "metadata": {},
   "outputs": [],
   "source": [
    "# Importing the dataset\n",
    "df = pd.read_csv('https://raw.githubusercontent.com/alexeygrigorev/datasets/master/car_fuel_efficiency.csv')\n",
    "df.head()"
   ]
  },
  {
   "cell_type": "markdown",
   "id": "476b7507",
   "metadata": {},
   "source": [
    "### Q2. Records count"
   ]
  },
  {
   "cell_type": "code",
   "execution_count": null,
   "id": "e2f58920",
   "metadata": {},
   "outputs": [],
   "source": [
    "print(\"Number of entries:\", df.shape[0])    "
   ]
  },
  {
   "cell_type": "markdown",
   "id": "92c6c0e2",
   "metadata": {},
   "source": [
    "### Q3. Fuel types"
   ]
  },
  {
   "cell_type": "code",
   "execution_count": null,
   "id": "f6c87e93",
   "metadata": {},
   "outputs": [],
   "source": [
    "print(\"Number of fuel types:\" , df['fuel_type'].nunique())"
   ]
  },
  {
   "cell_type": "markdown",
   "id": "c1f6ec83",
   "metadata": {},
   "source": [
    "### Q4. Missing values"
   ]
  },
  {
   "cell_type": "code",
   "execution_count": null,
   "id": "40f79e69",
   "metadata": {},
   "outputs": [],
   "source": [
    "print(\"Number of missing columns\", df.isnull().sum())"
   ]
  },
  {
   "cell_type": "markdown",
   "id": "7f12a0f3",
   "metadata": {},
   "source": [
    "### Q5. Max fuel efficiency"
   ]
  },
  {
   "cell_type": "code",
   "execution_count": null,
   "id": "58a6a752",
   "metadata": {},
   "outputs": [],
   "source": [
    "df.groupby('origin').fuel_efficiency_mpg.max()\n"
   ]
  },
  {
   "cell_type": "markdown",
   "id": "e8078a0f",
   "metadata": {},
   "source": [
    "### Q6. Median value of horsepower"
   ]
  },
  {
   "cell_type": "code",
   "execution_count": null,
   "id": "1773f8b3",
   "metadata": {},
   "outputs": [],
   "source": [
    "stats_horsepower = df[\"horsepower\"].describe()\n",
    "stats_horsepower"
   ]
  },
  {
   "cell_type": "code",
   "execution_count": null,
   "id": "73a11796",
   "metadata": {},
   "outputs": [],
   "source": [
    "# find the most frequent value\n",
    "most_frequent_horsepower = df[\"horsepower\"].mode()"
   ]
  },
  {
   "cell_type": "code",
   "execution_count": null,
   "id": "93bd5b71",
   "metadata": {},
   "outputs": [],
   "source": [
    "df[\"horsepower\"] = df[\"horsepower\"].fillna(most_frequent_horsepower[0])"
   ]
  },
  {
   "cell_type": "code",
   "execution_count": null,
   "id": "d6a297ce",
   "metadata": {},
   "outputs": [],
   "source": [
    "stats_horsepower = df[\"horsepower\"].describe()\n",
    "stats_horsepower"
   ]
  },
  {
   "cell_type": "markdown",
   "id": "bc1f2949",
   "metadata": {},
   "source": [
    "### Q7. Sum of weights"
   ]
  },
  {
   "cell_type": "code",
   "execution_count": null,
   "id": "056530f9",
   "metadata": {},
   "outputs": [],
   "source": [
    "df = df[\n",
    "    (df[\"origin\"] == \"Asia\") ][\n",
    "    [\"vehicle_weight\", \"model_year\"]]\n",
    "df = df.iloc[:7]\n",
    "df.head()"
   ]
  },
  {
   "cell_type": "code",
   "execution_count": null,
   "id": "74718983",
   "metadata": {},
   "outputs": [],
   "source": [
    "# create numpy array from the df\n",
    "x = np.array(df)"
   ]
  },
  {
   "cell_type": "code",
   "execution_count": null,
   "id": "62855f05",
   "metadata": {},
   "outputs": [],
   "source": [
    "# calculate inverse matrix from inner product of x\n",
    "XTX = x.T.dot(x)\n",
    "XTX_inv = np.linalg.inv(XTX)\n"
   ]
  },
  {
   "cell_type": "code",
   "execution_count": null,
   "id": "360d4a80",
   "metadata": {},
   "outputs": [],
   "source": [
    "# Add a new numpy array\n",
    "y = np.array([1100, 1300, 800, 900, 1000, 1100, 1200])"
   ]
  },
  {
   "cell_type": "code",
   "execution_count": null,
   "id": "ed082660",
   "metadata": {},
   "outputs": [],
   "source": [
    "# Caluculate inner product of XTX and y \n",
    "w = XTX_inv.dot(x.T).dot(y)"
   ]
  },
  {
   "cell_type": "code",
   "execution_count": null,
   "id": "513186b4",
   "metadata": {},
   "outputs": [],
   "source": [
    "w.sum()"
   ]
  }
 ],
 "metadata": {
  "kernelspec": {
   "display_name": "ml-zoomcamp",
   "language": "python",
   "name": "python3"
  },
  "language_info": {
   "codemirror_mode": {
    "name": "ipython",
    "version": 3
   },
   "file_extension": ".py",
   "mimetype": "text/x-python",
   "name": "python",
   "nbconvert_exporter": "python",
   "pygments_lexer": "ipython3",
   "version": "3.13.7"
  }
 },
 "nbformat": 4,
 "nbformat_minor": 5
}
