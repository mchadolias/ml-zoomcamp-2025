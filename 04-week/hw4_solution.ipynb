{
 "cells": [
  {
   "cell_type": "code",
   "execution_count": 1,
   "id": "c3a76a25",
   "metadata": {},
   "outputs": [],
   "source": [
    "import pandas as pd \n",
    "import numpy as np\n",
    "import matplotlib.pyplot as plt \n",
    "import seaborn as sns\n",
    "\n",
    "from sklearn.metrics import roc_auc_score, precision_score, recall_score, f1_score\n",
    "from sklearn.model_selection import train_test_split, KFold\n",
    "from sklearn.linear_model import LogisticRegression\n",
    "from sklearn.preprocessing import OneHotEncoder, StandardScaler\n",
    "from sklearn.compose import ColumnTransformer\n",
    "\n",
    "\n",
    "%matplotlib inline"
   ]
  },
  {
   "cell_type": "code",
   "execution_count": null,
   "id": "3b8b461f",
   "metadata": {},
   "outputs": [],
   "source": [
    "# Functions\n",
    "def classify_columns(df, target, verbose= False):\n",
    "\n",
    "    features = df.columns[(df.columns != target)].tolist()\n",
    "    categorical = df.dtypes[(df.dtypes == \"object\") & (df.columns != target)].index.tolist()\n",
    "    numerical = [col for col in features if col not in categorical and col != target]\n",
    "\n",
    "    if verbose:\n",
    "        print(\"Total number of features:\", len(features))\n",
    "        print(\"Numerical:\", len(numerical))\n",
    "        print(\"Categorical:\", len(categorical))\n",
    "\n",
    "    return features, categorical, numerical\n",
    "\n",
    "def build_preprocessor(categorical_cols, numerical_cols):\n",
    "    # Preprocessing for categorical data\n",
    "    categorical_transformer = OneHotEncoder(handle_unknown='ignore', sparse_output=False)\n",
    "\n",
    "    # Preprocessing for numerical data -> Possible way to improve perfomance\n",
    "    #numerical_transformer = StandardScaler()\n",
    "\n",
    "    # Bundle preprocessing for categorical data\n",
    "    preprocessor = ColumnTransformer(\n",
    "        transformers=[\n",
    "            ('cat', categorical_transformer, categorical_cols),\n",
    "            #('num', numerical_transformer, numerical_cols)\n",
    "        ], remainder='passthrough')\n",
    "\n",
    "    return preprocessor\n",
    "\n",
    "def fit_preprocessor(preprocessor, X_train):\n",
    "    # Fit preprocessor\n",
    "    X_train_encoded = preprocessor.fit_transform(X_train)\n",
    "    return X_train_encoded\n",
    "\n",
    "def transform_dataset(preprocessor, X):\n",
    "    return preprocessor.transform(X)\n",
    "\n",
    "def encoded_dataframe(preprocessor, X, index=None):\n",
    "    X_enc = preprocessor.transform(X)\n",
    "    cols = preprocessor.get_feature_names_out()\n",
    "    return pd.DataFrame(X_enc, columns=cols, index=index)\n",
    "\n",
    "def rebuild_dataframe(preprocessor, X_enc, index=None):\n",
    "    cols = preprocessor.get_feature_names_out()\n",
    "    return pd.DataFrame(X_enc, columns=cols, index=index)\n",
    "\n",
    "def split_features_target(df, target_col):\n",
    "    X = df.drop(target_col, axis=1)\n",
    "    y = df[target_col]\n",
    "    return X, y\n",
    "\n",
    "def preprocess_dataset(df, categorical_cols, numerical_cols):\n",
    "\n",
    "      # Fill features\n",
    "    for feature in numerical_cols:\n",
    "        df[feature] = df[feature].fillna(0)\n",
    "\n",
    "    for features in categorical_cols:\n",
    "        df[feature] = df[feature].fillna(\"NA\")  \n",
    "\n",
    "    return df\n",
    "\n",
    "def split_dataset(dataset, test_size = 0.2, val_size = 0.25, seed = 1):\n",
    "    train_full_df, test_df = train_test_split(dataset, test_size=test_size, random_state=seed)\n",
    "\n",
    "    train_df, val_df = train_test_split(train_full_df, test_size=val_size, random_state=seed)\n",
    "\n",
    "    train_df = train_df.reset_index()\n",
    "    val_df = val_df.reset_index()\n",
    "    test_df = test_df.reset_index()\n",
    "\n",
    "    return train_df, val_df, test_df\n",
    "\n",
    "def train_logistic_regression(X, y, C = 1.0, max_iter = 1000):\n",
    "    model = LogisticRegression(solver=\"liblinear\", C = C, max_iter = max_iter)\n",
    "\n",
    "    model.fit(X, y)\n",
    "\n",
    "    return model\n",
    "\n",
    "def predict_y(model, X, pred_type=\"prob\", threshold=0.5, verbose=False):\n",
    "    y_proba = model.predict_proba(X)[:, 1]\n",
    "\n",
    "    if pred_type == \"prob\":\n",
    "        if verbose:\n",
    "            print(\"Returning probabilities\")\n",
    "        return y_proba\n",
    "    else:\n",
    "        if verbose:\n",
    "            print(\"Returning classes\")\n",
    "        return (y_proba >= threshold).astype(int)\n",
    "    \n",
    "def use_metric(y, y_pred, eval_method):\n",
    "    if eval_method == \"accuracy\":\n",
    "        return (y == y_pred).mean()\n",
    "    elif eval_method == \"precision\":\n",
    "        return precision_score(y, y_pred, zero_division=1)\n",
    "    elif eval_method == \"recall\":\n",
    "        return recall_score(y, y_pred)\n",
    "    elif eval_method == \"f1\":\n",
    "        return f1_score(y, y_pred)\n",
    "    elif eval_method == \"roc_auc\":\n",
    "        return roc_auc_score(y, y_pred)\n",
    "    else:\n",
    "        raise ValueError(\"Unknown eval method\")\n",
    "\n",
    "def kfold_cross_validation(X, y, C=1, num_folds=5, is_shuffled = True, seed = 1, verbose = False):\n",
    "    # Initialize KFold\n",
    "    kfold = KFold(n_splits=num_folds, shuffle=is_shuffled, random_state=seed)\n",
    "\n",
    "    scores = []\n",
    "\n",
    "    # Iterate over folds\n",
    "    for train_idx, val_idx in kfold.split(X):\n",
    "        X_train, X_val = X[train_idx], X[val_idx]\n",
    "        y_train, y_val = y.iloc[train_idx], y.iloc[val_idx]\n",
    "\n",
    "        # Train logistic regression\n",
    "        model = train_logistic_regression(X_train, y_train, C = C)\n",
    "\n",
    "        # Predict probabilities for AUC\n",
    "        y_pred = predict_y(model, X_val, \"prob\")\n",
    "\n",
    "        # Evaluate\n",
    "        auc = use_metric(y_val, y_pred, \"roc_auc\")\n",
    "        scores.append(auc)\n",
    "\n",
    "    # Compute mean and std of AUCs\n",
    "    mean_auc = np.mean(scores)\n",
    "    std_auc = np.std(scores)\n",
    "\n",
    "    if verbose:\n",
    "        print(f\"AUCs across folds: {scores}\")\n",
    "        print(f\"Mean AUC: {mean_auc:.3f}\")\n",
    "        print(f\"Std of AUC: {std_auc:.3f}\")\n",
    "\n",
    "    return mean_auc, std_auc"
   ]
  },
  {
   "cell_type": "code",
   "execution_count": null,
   "id": "cd4cbabf",
   "metadata": {},
   "outputs": [],
   "source": [
    "url = \"https://raw.githubusercontent.com/alexeygrigorev/datasets/master/course_lead_scoring.csv\"\n",
    "target_col = \"converted\""
   ]
  },
  {
   "cell_type": "code",
   "execution_count": 4,
   "id": "ab3ba93d",
   "metadata": {},
   "outputs": [],
   "source": [
    "df = pd.read_csv(url)"
   ]
  },
  {
   "cell_type": "code",
   "execution_count": 5,
   "id": "d48384fe",
   "metadata": {},
   "outputs": [
    {
     "name": "stdout",
     "output_type": "stream",
     "text": [
      "Number of empty entries 606\n"
     ]
    }
   ],
   "source": [
    "print(\"Number of empty entries\", df.isnull().sum().sum())"
   ]
  },
  {
   "cell_type": "code",
   "execution_count": 6,
   "id": "25b77e66",
   "metadata": {},
   "outputs": [],
   "source": [
    "# Column distinction\n",
    "features_cols, categorical_cols, numerical_cols = classify_columns(df, target_col)"
   ]
  },
  {
   "cell_type": "code",
   "execution_count": 7,
   "id": "992502b0",
   "metadata": {},
   "outputs": [
    {
     "data": {
      "text/plain": [
       "<Axes: xlabel='converted', ylabel='percent'>"
      ]
     },
     "execution_count": 7,
     "metadata": {},
     "output_type": "execute_result"
    },
    {
     "data": {
      "image/png": "[encoded data removed]",
      "text/plain": [
       "<Figure size 640x480 with 1 Axes>"
      ]
     },
     "metadata": {},
     "output_type": "display_data"
    }
   ],
   "source": [
    "# EDA check y variable \n",
    "fig, ax = plt.subplots()\n",
    "sns.countplot(data=df, x=target_col, ax= ax, stat=\"percent\")\n"
   ]
  },
  {
   "cell_type": "code",
   "execution_count": 8,
   "id": "43826e60",
   "metadata": {},
   "outputs": [],
   "source": [
    "# split dataset\n",
    "df = preprocess_dataset(df, categorical_cols, numerical_cols)\n",
    "train_df, val_df, test_df = split_dataset(df)"
   ]
  },
  {
   "cell_type": "code",
   "execution_count": 9,
   "id": "3802537b",
   "metadata": {},
   "outputs": [
    {
     "name": "stdout",
     "output_type": "stream",
     "text": [
      "Feature: lead_score\n",
      "ROC AUC: 0.6144993577250176\n",
      "\n",
      "Feature: number_of_courses_viewed\n",
      "ROC AUC: 0.7635680590007088\n",
      "\n",
      "Feature: interaction_count\n",
      "ROC AUC: 0.738270176293409\n",
      "\n",
      "Feature: annual_income\n",
      "ROC AUC: 0.5519578313253012\n",
      "\n"
     ]
    }
   ],
   "source": [
    "# Q1: ROC AUC feature importance\n",
    "\n",
    "features = [\"lead_score\", \"number_of_courses_viewed\", \"interaction_count\", \"annual_income\"]\n",
    "\n",
    "auc_scores = {}\n",
    "for f in features:\n",
    "    print(f\"Feature: {f}\")\n",
    "    auc = use_metric(train_df[target_col], train_df[f], \"roc_auc\")\n",
    "    print(f\"ROC AUC: {auc}\\n\")\n",
    "\n",
    "    if auc < 0.5:\n",
    "        train_df[f] = - train_df[f]\n",
    "\n",
    "    auc_scores[f] = auc\n",
    "    "
   ]
  },
  {
   "cell_type": "code",
   "execution_count": 10,
   "id": "0c537dfc",
   "metadata": {},
   "outputs": [],
   "source": [
    "# Q2: Training the model \n",
    "\n",
    "processor = build_preprocessor(categorical_cols, numerical_cols)\n",
    "\n",
    "X_train, y_train = split_features_target(train_df, target_col)\n",
    "X_train_en = fit_preprocessor(processor, X_train)"
   ]
  },
  {
   "cell_type": "code",
   "execution_count": 11,
   "id": "3380df14",
   "metadata": {},
   "outputs": [
    {
     "name": "stdout",
     "output_type": "stream",
     "text": [
      "Validation ROC AUC: 0.827149841817659\n"
     ]
    }
   ],
   "source": [
    "# Train the model\n",
    "model = train_logistic_regression(X_train_en, y_train)\n",
    "\n",
    "# Evaluate on validation set\n",
    "X_val, y_val = split_features_target(val_df, target_col)\n",
    "X_val_en = transform_dataset(processor, X_val)\n",
    "\n",
    "y_pred_prob = predict_y(model, X_val_en, pred_type=\"prob\")\n",
    "val_auc = use_metric(y_val, y_pred_prob, eval_method=\"roc_auc\")\n",
    "print(\"Validation ROC AUC:\", val_auc)"
   ]
  },
  {
   "cell_type": "code",
   "execution_count": 12,
   "id": "4cf9c60b",
   "metadata": {},
   "outputs": [],
   "source": [
    "# Q3: Precision & Recall\n",
    "\n",
    "threshold_values = np.arange(0.0, 1.0, 0.01)\n",
    "eval_scores = {}\n",
    "for t in threshold_values:\n",
    "    y_pred = predict_y(model, X_val_en, pred_type=\"class\", threshold=t)\n",
    "    p_score = use_metric(y_val, y_pred, \"precision\")\n",
    "    r_score = use_metric(y_val, y_pred, \"recall\")\n",
    "    f_score = use_metric(y_val, y_pred, \"f1\") # Added for Q4\n",
    "    eval_scores[t] = [p_score, r_score, f_score]\n",
    "\n",
    "df_scores = pd.DataFrame.from_dict(eval_scores, orient='index', columns=['precision', 'recall', \"f1_score\"])\n",
    "df_scores[\"diff\"] = np.abs(df_scores[\"precision\"] - df_scores[\"recall\"])\n"
   ]
  },
  {
   "cell_type": "code",
   "execution_count": 13,
   "id": "8afc47d0",
   "metadata": {},
   "outputs": [
    {
     "data": {
      "text/plain": [
       "Text(0.5, 1.0, 'Precision and Recall vs. Threshold')"
      ]
     },
     "execution_count": 13,
     "metadata": {},
     "output_type": "execute_result"
    },
    {
     "data": {
      "image/png": "[encoded data removed]",
      "text/plain": [
       "<Figure size 640x480 with 1 Axes>"
      ]
     },
     "metadata": {},
     "output_type": "display_data"
    }
   ],
   "source": [
    "\n",
    "# Plot\n",
    "sns.lineplot(data=df_scores, x=df_scores.index, y=\"precision\", label='Precision')\n",
    "sns.lineplot(data=df_scores, x=df_scores.index, y=\"recall\", label='Recall')\n",
    "plt.xlabel('Threshold')\n",
    "plt.ylabel('Score')\n",
    "plt.title('Precision and Recall vs. Threshold')"
   ]
  },
  {
   "cell_type": "code",
   "execution_count": 14,
   "id": "723a73d7",
   "metadata": {},
   "outputs": [
    {
     "name": "stdout",
     "output_type": "stream",
     "text": [
      "Threshold with minimum difference between Precision and Recall: 0.63\n"
     ]
    }
   ],
   "source": [
    "print(\"Threshold with minimum difference between Precision and Recall:\", df_scores[\"diff\"].idxmin())"
   ]
  },
  {
   "cell_type": "code",
   "execution_count": 15,
   "id": "b794f288",
   "metadata": {},
   "outputs": [
    {
     "name": "stdout",
     "output_type": "stream",
     "text": [
      "The maximum value of f1 score 0.821\n",
      "Corresponding threshold value 0.59\n"
     ]
    },
    {
     "data": {
      "image/png": "[encoded data removed]",
      "text/plain": [
       "<Figure size 640x480 with 1 Axes>"
      ]
     },
     "metadata": {},
     "output_type": "display_data"
    }
   ],
   "source": [
    "# Q4: F1 Score \n",
    "\n",
    "sns.lineplot(data=df_scores, x= df_scores.index, y=\"f1_score\")\n",
    "plt.xlabel(\"Threshold\")\n",
    "plt.ylabel(\"f1 score\")\n",
    "print(f\"The maximum value of f1 score {df_scores[\"f1_score\"].max():.3f}\")\n",
    "print(f\"Corresponding threshold value {df_scores[\"f1_score\"].idxmax()}\")"
   ]
  },
  {
   "cell_type": "code",
   "execution_count": 16,
   "id": "b472c65a",
   "metadata": {},
   "outputs": [],
   "source": [
    "# Q5: 5-fold CV \n",
    "\n",
    "# Merge train and val sets\n",
    "X_full_train_en = np.vstack([X_train_en, X_val_en])\n",
    "y_full_train = pd.concat([y_train, y_val], axis=0).reset_index(drop=True)\n"
   ]
  },
  {
   "cell_type": "code",
   "execution_count": 17,
   "id": "499cc028",
   "metadata": {},
   "outputs": [
    {
     "name": "stdout",
     "output_type": "stream",
     "text": [
      "AUCs across folds: [0.8430309007232084, 0.8170768307322929, 0.8292534126439411, 0.8183130699088146, 0.8685961925398545]\n",
      "Mean AUC: 0.835\n",
      "Std of AUC: 0.019\n"
     ]
    }
   ],
   "source": [
    "mean, std = kfold_cross_validation(X_full_train_en, y_full_train, verbose=True)"
   ]
  },
  {
   "cell_type": "code",
   "execution_count": 18,
   "id": "f2d8f6ce",
   "metadata": {},
   "outputs": [
    {
     "name": "stdout",
     "output_type": "stream",
     "text": [
      "\n",
      "C: 1e-06\n",
      "AUCs across folds: [0.5801282051282051, 0.5716536614645858, 0.5192557004499352, 0.6178571428571429, 0.5006964866119795]\n",
      "Mean AUC: 0.558\n",
      "Std of AUC: 0.043\n",
      "\n",
      "C: 0.001\n",
      "AUCs across folds: [0.8507560815253122, 0.8356092436974789, 0.8262030046518722, 0.8221124620060789, 0.864417272867977]\n",
      "Mean AUC: 0.840\n",
      "Std of AUC: 0.016\n",
      "\n",
      "C: 1\n",
      "AUCs across folds: [0.8430309007232084, 0.8170768307322929, 0.8292534126439411, 0.8183130699088146, 0.8685961925398545]\n",
      "Mean AUC: 0.835\n",
      "Std of AUC: 0.019\n"
     ]
    }
   ],
   "source": [
    "#Q6: Hyperparameter tuning\n",
    "\n",
    "C_list = [0.000001, 0.001, 1]\n",
    "\n",
    "for c in C_list:\n",
    "    print(f\"\\nC: {c}\")\n",
    "    mean, std = kfold_cross_validation(X_full_train_en, y_full_train, C=c, verbose=True)"
   ]
  }
 ],
 "metadata": {
  "kernelspec": {
   "display_name": "ml-zoomcamp",
   "language": "python",
   "name": "python3"
  },
  "language_info": {
   "codemirror_mode": {
    "name": "ipython",
    "version": 3
   },
   "file_extension": ".py",
   "mimetype": "text/x-python",
   "name": "python",
   "nbconvert_exporter": "python",
   "pygments_lexer": "ipython3",
   "version": "3.13.7"
  }
 },
 "nbformat": 4,
 "nbformat_minor": 5
}
