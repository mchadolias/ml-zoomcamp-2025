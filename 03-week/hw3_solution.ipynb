{
 "cells": [
  {
   "cell_type": "code",
   "execution_count": 95,
   "id": "e714c5d7",
   "metadata": {},
   "outputs": [],
   "source": [
    "import pandas as pd \n",
    "import numpy  as np\n",
    "import seaborn as sns\n",
    "\n",
    "from sklearn.linear_model import LogisticRegression\n",
    "from sklearn.preprocessing import OneHotEncoder\n",
    "from sklearn.metrics import accuracy_score, mutual_info_score\n",
    "from sklearn.model_selection import GridSearchCV, train_test_split\n",
    "\n",
    "%matplotlib inline\n"
   ]
  },
  {
   "cell_type": "code",
   "execution_count": 96,
   "id": "7f042a3a",
   "metadata": {},
   "outputs": [
    {
     "data": {
      "application/vnd.microsoft.datawrangler.viewer.v0+json": {
       "columns": [
        {
         "name": "index",
         "rawType": "int64",
         "type": "integer"
        },
        {
         "name": "lead_source",
         "rawType": "object",
         "type": "string"
        },
        {
         "name": "industry",
         "rawType": "object",
         "type": "unknown"
        },
        {
         "name": "number_of_courses_viewed",
         "rawType": "int64",
         "type": "integer"
        },
        {
         "name": "annual_income",
         "rawType": "float64",
         "type": "float"
        },
        {
         "name": "employment_status",
         "rawType": "object",
         "type": "unknown"
        },
        {
         "name": "location",
         "rawType": "object",
         "type": "string"
        },
        {
         "name": "interaction_count",
         "rawType": "int64",
         "type": "integer"
        },
        {
         "name": "lead_score",
         "rawType": "float64",
         "type": "float"
        },
        {
         "name": "converted",
         "rawType": "int64",
         "type": "integer"
        }
       ],
       "ref": "fdfb49d8-beb0-4f00-a0d4-175d14552afe",
       "rows": [
        [
         "0",
         "paid_ads",
         null,
         "1",
         "79450.0",
         "unemployed",
         "south_america",
         "4",
         "0.94",
         "1"
        ],
        [
         "1",
         "social_media",
         "retail",
         "1",
         "46992.0",
         "employed",
         "south_america",
         "1",
         "0.8",
         "0"
        ],
        [
         "2",
         "events",
         "healthcare",
         "5",
         "78796.0",
         "unemployed",
         "australia",
         "3",
         "0.69",
         "1"
        ],
        [
         "3",
         "paid_ads",
         "retail",
         "2",
         "83843.0",
         null,
         "australia",
         "1",
         "0.87",
         "0"
        ],
        [
         "4",
         "referral",
         "education",
         "3",
         "85012.0",
         "self_employed",
         "europe",
         "3",
         "0.62",
         "1"
        ]
       ],
       "shape": {
        "columns": 9,
        "rows": 5
       }
      },
      "text/html": [
       "<div>\n",
       "<style scoped>\n",
       "    .dataframe tbody tr th:only-of-type {\n",
       "        vertical-align: middle;\n",
       "    }\n",
       "\n",
       "    .dataframe tbody tr th {\n",
       "        vertical-align: top;\n",
       "    }\n",
       "\n",
       "    .dataframe thead th {\n",
       "        text-align: right;\n",
       "    }\n",
       "</style>\n",
       "<table border=\"1\" class=\"dataframe\">\n",
       "  <thead>\n",
       "    <tr style=\"text-align: right;\">\n",
       "      <th></th>\n",
       "      <th>lead_source</th>\n",
       "      <th>industry</th>\n",
       "      <th>number_of_courses_viewed</th>\n",
       "      <th>annual_income</th>\n",
       "      <th>employment_status</th>\n",
       "      <th>location</th>\n",
       "      <th>interaction_count</th>\n",
       "      <th>lead_score</th>\n",
       "      <th>converted</th>\n",
       "    </tr>\n",
       "  </thead>\n",
       "  <tbody>\n",
       "    <tr>\n",
       "      <th>0</th>\n",
       "      <td>paid_ads</td>\n",
       "      <td>NaN</td>\n",
       "      <td>1</td>\n",
       "      <td>79450.0</td>\n",
       "      <td>unemployed</td>\n",
       "      <td>south_america</td>\n",
       "      <td>4</td>\n",
       "      <td>0.94</td>\n",
       "      <td>1</td>\n",
       "    </tr>\n",
       "    <tr>\n",
       "      <th>1</th>\n",
       "      <td>social_media</td>\n",
       "      <td>retail</td>\n",
       "      <td>1</td>\n",
       "      <td>46992.0</td>\n",
       "      <td>employed</td>\n",
       "      <td>south_america</td>\n",
       "      <td>1</td>\n",
       "      <td>0.80</td>\n",
       "      <td>0</td>\n",
       "    </tr>\n",
       "    <tr>\n",
       "      <th>2</th>\n",
       "      <td>events</td>\n",
       "      <td>healthcare</td>\n",
       "      <td>5</td>\n",
       "      <td>78796.0</td>\n",
       "      <td>unemployed</td>\n",
       "      <td>australia</td>\n",
       "      <td>3</td>\n",
       "      <td>0.69</td>\n",
       "      <td>1</td>\n",
       "    </tr>\n",
       "    <tr>\n",
       "      <th>3</th>\n",
       "      <td>paid_ads</td>\n",
       "      <td>retail</td>\n",
       "      <td>2</td>\n",
       "      <td>83843.0</td>\n",
       "      <td>NaN</td>\n",
       "      <td>australia</td>\n",
       "      <td>1</td>\n",
       "      <td>0.87</td>\n",
       "      <td>0</td>\n",
       "    </tr>\n",
       "    <tr>\n",
       "      <th>4</th>\n",
       "      <td>referral</td>\n",
       "      <td>education</td>\n",
       "      <td>3</td>\n",
       "      <td>85012.0</td>\n",
       "      <td>self_employed</td>\n",
       "      <td>europe</td>\n",
       "      <td>3</td>\n",
       "      <td>0.62</td>\n",
       "      <td>1</td>\n",
       "    </tr>\n",
       "  </tbody>\n",
       "</table>\n",
       "</div>"
      ],
      "text/plain": [
       "    lead_source    industry  ...  lead_score  converted\n",
       "0      paid_ads         NaN  ...        0.94          1\n",
       "1  social_media      retail  ...        0.80          0\n",
       "2        events  healthcare  ...        0.69          1\n",
       "3      paid_ads      retail  ...        0.87          0\n",
       "4      referral   education  ...        0.62          1\n",
       "\n",
       "[5 rows x 9 columns]"
      ]
     },
     "execution_count": 96,
     "metadata": {},
     "output_type": "execute_result"
    }
   ],
   "source": [
    "df = pd.read_csv(\"https://raw.githubusercontent.com/alexeygrigorev/datasets/master/course_lead_scoring.csv\")\n",
    "\n",
    "df.head()"
   ]
  },
  {
   "cell_type": "code",
   "execution_count": 97,
   "id": "ecd81eea",
   "metadata": {},
   "outputs": [
    {
     "name": "stdout",
     "output_type": "stream",
     "text": [
      "=================================================================================\n",
      "Numerical Features:\n",
      "['number_of_courses_viewed', 'annual_income', 'interaction_count', 'lead_score']\n",
      "\n",
      "Categorical Features:\n",
      "['lead_source', 'industry', 'employment_status', 'location']\n",
      "=================================================================================\n"
     ]
    }
   ],
   "source": [
    "features = df.columns[(df.columns != \"converted\")].tolist()\n",
    "target = 'converted'\n",
    "categorical = df.dtypes[df.dtypes == \"object\"].index.tolist()\n",
    "numerical = df.dtypes[(df.dtypes != \"object\") & (df.columns != \"converted\")].index.tolist()\n",
    "\n",
    "print(\"=================================================================================\")\n",
    "print(\"Numerical Features:\")\n",
    "print(numerical)\n",
    "print(\"\")\n",
    "print(\"Categorical Features:\")\n",
    "print(categorical)\n",
    "print(\"=================================================================================\")\n",
    "\n"
   ]
  },
  {
   "cell_type": "code",
   "execution_count": 98,
   "id": "c48070e9",
   "metadata": {},
   "outputs": [],
   "source": [
    "# Gathered functions\n",
    "def preprocess_dataframe(df, categorical, numerical):\n",
    "\n",
    "    # Fill features\n",
    "    for features in numerical:\n",
    "        df[features] = df[features].fillna(0)\n",
    "\n",
    "    for features in categorical:\n",
    "        df[features] = df[features].fillna(\"NA\")\n",
    "\n",
    "    return df\n",
    "\n",
    "def compute_correlation_matrix(df, numerical):\n",
    "    corr = df[numerical].corr()\n",
    "\n",
    "    sns.heatmap(corr, annot=True, fmt=\".2f\")\n",
    "\n",
    "    # Print the max correlation values\n",
    "    print(\"Maximum correlation values:\")\n",
    "    for col in corr.columns:\n",
    "        max_corr = corr[col][corr[col] != 1.0].max()\n",
    "        print(f\"{col}: {max_corr:.2f}\") \n",
    "\n",
    "def split_dataset(df, test_ratio=0.2, val_ratio=0.2, random_state=42, verbose=False):\n",
    "    df_full_train, df_test = train_test_split(df, test_size=test_ratio,  random_state=random_state)\n",
    "    df_train, df_val   = train_test_split(df_full_train, test_size= (val_ratio / (1 - test_ratio)), random_state=random_state)\n",
    "\n",
    "    if verbose:\n",
    "        print(f\"Full train shape: {df_full_train.shape}\")\n",
    "        print(f\"Train shape: {df_train.shape}\")\n",
    "        print(f\"Validation shape: {df_val.shape}\")\n",
    "        print(f\"Test shape: {df_test.shape}\")\n",
    "        \n",
    "        if (len(df_full_train) != (len(df_train) + len(df_val))):\n",
    "            print(\"Warning: Full train size is not equal to Train + Validation sizes\")\n",
    "        if (len(df) != (len(df_full_train) + len(df_test))):\n",
    "            print(\"Warning: Full dataset size is not equal to Full train + Test sizes\")\n",
    "\n",
    "    return df_train, df_val, df_test\n",
    "  \n",
    "def prepare_dataset(df, categorical, encoder, type=\"training\"):\n",
    "    df = df.copy()\n",
    "    \n",
    "    if type == \"training\":\n",
    "        ohe = OneHotEncoder(sparse_output=False, handle_unknown=\"ignore\")\n",
    "        encoded_df = ohe.fit_transform(df[categorical])\n",
    "        encoded_df = pd.DataFrame(encoded_df, columns=ohe.get_feature_names_out(categorical), index=df.index)\n",
    "\n",
    "        return df.drop(columns=categorical).join(encoded_df), ohe\n",
    "    \n",
    "    elif type in [\"validation\", \"test\"]:\n",
    "        encoded_df = encoder.transform(df[categorical])\n",
    "        encoded_df = pd.DataFrame(encoded_df, columns=encoder.get_feature_names_out(categorical), index=df.index)\n",
    "\n",
    "        return df.drop(columns=categorical).join(encoded_df)\n",
    "    else:\n",
    "        print(\"Error: type must be 'training', 'validation' or 'test'\")\n",
    "        return None\n",
    "    \n",
    "def create_data_matrices(df, features, target):\n",
    "    return df[features], df[target]\n",
    "\n",
    "def mutual_info_cat_score(series, y, verbose):\n",
    "    mutual_score =  np.round(mutual_info_score(series, y), 2)\n",
    "\n",
    "    if verbose:\n",
    "        print(f\"Mutual Information score between {series.name} and target: {mutual_score}\")\n",
    "    return mutual_score\n",
    "    \n",
    "def train_logistic_regression(X_train, y, C=1.0, random_state=42, max_iter=1000, solver=\"liblinear\", model_type=\"normal\", params_grid=None, verbose=False):\n",
    "   \n",
    "    if model_type == \"grid_search\":\n",
    "        if params_grid is None:\n",
    "            print(\"Error: params_grid must be provided for grid search\")\n",
    "            return None\n",
    "        \n",
    "        model = LogisticRegression(random_state=random_state, max_iter=max_iter, solver=solver)\n",
    "        grid_search = GridSearchCV(model, params_grid, scoring='accuracy', cv=5, n_jobs=-1, verbose=1)\n",
    "        grid_search.fit(X_train, y)\n",
    "\n",
    "        if verbose:\n",
    "            print(f\"Best parameters: {grid_search.best_params_}\")\n",
    "            print(f\"Best cross-validation score: {grid_search.best_score_:.3f}\")\n",
    "\n",
    "        return grid_search.best_estimator_\n",
    "    \n",
    "    elif model_type == \"normal\":  \n",
    "        model = LogisticRegression(C=C, random_state=random_state, max_iter=max_iter, solver=solver)\n",
    "        model.fit(X_train, y)\n",
    "\n",
    "        if verbose:\n",
    "            print(f\"Training accuracy: {model.score(X_train, y):.3f}\")\n",
    "        \n",
    "        return model\n",
    "\n",
    "def evaluate_model(model, X, y, verbose=False):\n",
    "    y_pred = model.predict(X)\n",
    "\n",
    "    accuracy = accuracy_score(y, y_pred)\n",
    "    if verbose:\n",
    "        print(f\"Accuracy: {accuracy:.3f}\")\n",
    "\n",
    "    return accuracy\n",
    "\n",
    "def drop_columns(df, columns, verbose=False):\n",
    "    df = df.copy()\n",
    "\n",
    "    if isinstance(columns, str):\n",
    "        df = df.iloc[:, ~df.columns.str.contains(columns)]\n",
    "    elif isinstance(columns, list):\n",
    "        for col in columns:\n",
    "            df = df.iloc[:, ~df.columns.str.contains(col)]\n",
    "    else:\n",
    "        print(\"Error: columns must be a string or a list of strings\")\n",
    "\n",
    "    if verbose:\n",
    "        print(f\"Dropped columns: {columns}\")\n",
    "        print(f\"New shape: {df.shape}\")\n",
    "        print(f\"Remaining columns: {df.columns.tolist()}\")\n",
    "    \n",
    "    return df\n",
    "\n"
   ]
  },
  {
   "cell_type": "code",
   "execution_count": 99,
   "id": "5b7095d6",
   "metadata": {},
   "outputs": [],
   "source": [
    "df = preprocess_dataframe(df, categorical, numerical)"
   ]
  },
  {
   "cell_type": "code",
   "execution_count": 100,
   "id": "f7f0a3b4",
   "metadata": {},
   "outputs": [
    {
     "name": "stdout",
     "output_type": "stream",
     "text": [
      "industry\n",
      "retail           203\n",
      "finance          200\n",
      "other            198\n",
      "healthcare       187\n",
      "education        187\n",
      "technology       179\n",
      "manufacturing    174\n",
      "NA               134\n",
      "Name: count, dtype: int64\n"
     ]
    },
    {
     "data": {
      "text/plain": [
       "'retail'"
      ]
     },
     "execution_count": 100,
     "metadata": {},
     "output_type": "execute_result"
    }
   ],
   "source": [
    "## Question 1 What is the most frequent value (mode) of the column 'industry'?\n",
    "print(df[\"industry\"].value_counts())\n",
    "df[\"industry\"].mode()[0]"
   ]
  },
  {
   "cell_type": "code",
   "execution_count": 101,
   "id": "8163314d",
   "metadata": {},
   "outputs": [
    {
     "name": "stdout",
     "output_type": "stream",
     "text": [
      "Maximum correlation values:\n",
      "number_of_courses_viewed: 0.01\n",
      "annual_income: 0.03\n",
      "interaction_count: 0.03\n",
      "lead_score: 0.02\n"
     ]
    },
    {
     "data": {
      "image/png": "[encoded data removed]",
      "text/plain": [
       "<Figure size 640x480 with 2 Axes>"
      ]
     },
     "metadata": {},
     "output_type": "display_data"
    }
   ],
   "source": [
    "## Question 2: Compute a correlation matrix for the numerical features of your dataset.\n",
    "compute_correlation_matrix(df, numerical)"
   ]
  },
  {
   "cell_type": "code",
   "execution_count": 102,
   "id": "401f88f5",
   "metadata": {},
   "outputs": [],
   "source": [
    "# Prepare the dataset\n",
    "\n",
    "df_train, df_val, df_test = split_dataset(df) "
   ]
  },
  {
   "cell_type": "code",
   "execution_count": 103,
   "id": "185671ed",
   "metadata": {},
   "outputs": [
    {
     "name": "stdout",
     "output_type": "stream",
     "text": [
      "Mutual Information score between lead_source and target: 0.04\n",
      "Mutual Information score between industry and target: 0.01\n",
      "Mutual Information score between employment_status and target: 0.01\n",
      "Mutual Information score between location and target: 0.0\n"
     ]
    }
   ],
   "source": [
    "## Question 3: Calculate the mutual information score between  y and the categorical features of your dataset.\n",
    "\n",
    "mi = df_train[categorical].apply(mutual_info_cat_score, y=df_train[target], verbose=True)\n",
    "mi = mi.sort_values(ascending=False)\n"
   ]
  },
  {
   "cell_type": "code",
   "execution_count": 104,
   "id": "629a79aa",
   "metadata": {},
   "outputs": [],
   "source": [
    "# Question 4: Train a logistic regression model with the categorical features of your dataset.\n",
    "\n",
    "df_train_en, ohe = prepare_dataset(df_train, categorical, encoder=None, type=\"training\")"
   ]
  },
  {
   "cell_type": "code",
   "execution_count": 105,
   "id": "6aa7cfe1",
   "metadata": {},
   "outputs": [],
   "source": [
    "df_val_en   = prepare_dataset(df_val,   categorical, encoder=ohe, type=\"validation\")\n",
    "df_test_en  = prepare_dataset(df_test,  categorical, encoder=ohe, type=\"test\")"
   ]
  },
  {
   "cell_type": "code",
   "execution_count": 106,
   "id": "a644ab94",
   "metadata": {},
   "outputs": [],
   "source": [
    "# create data matrices\n",
    "X_train, y_train = create_data_matrices(df_train_en, df_train_en.columns[df_train_en.columns != target].tolist(), target)\n",
    "X_val,   y_val   = create_data_matrices(df_val_en,   df_val_en.columns[df_val_en.columns != target].tolist(), target)\n",
    "X_test,  y_test  = create_data_matrices(df_test_en,  df_test_en.columns[df_test_en.columns != target].tolist(), target)\n"
   ]
  },
  {
   "cell_type": "code",
   "execution_count": 107,
   "id": "b405100a",
   "metadata": {},
   "outputs": [
    {
     "data": {
      "text/plain": [
       "((876, 9), (876, 32))"
      ]
     },
     "execution_count": 107,
     "metadata": {},
     "output_type": "execute_result"
    }
   ],
   "source": [
    "df_train.shape, df_train_en.shape"
   ]
  },
  {
   "cell_type": "code",
   "execution_count": 108,
   "id": "984beda8",
   "metadata": {},
   "outputs": [
    {
     "name": "stdout",
     "output_type": "stream",
     "text": [
      "Training accuracy: 0.739\n"
     ]
    }
   ],
   "source": [
    "# Train the model\n",
    "model = train_logistic_regression( X_train, y_train, verbose=True)"
   ]
  },
  {
   "cell_type": "code",
   "execution_count": 109,
   "id": "18b08c60",
   "metadata": {},
   "outputs": [
    {
     "name": "stdout",
     "output_type": "stream",
     "text": [
      "Accuracy: 0.700\n"
     ]
    }
   ],
   "source": [
    "val_accuracy = evaluate_model(model, X_val, y_val, verbose=True)"
   ]
  },
  {
   "cell_type": "code",
   "execution_count": 110,
   "id": "2a12b94e",
   "metadata": {},
   "outputs": [
    {
     "name": "stdout",
     "output_type": "stream",
     "text": [
      "Accuracy: 0.739\n"
     ]
    },
    {
     "data": {
      "text/plain": [
       "0.7385844748858448"
      ]
     },
     "execution_count": 110,
     "metadata": {},
     "output_type": "execute_result"
    }
   ],
   "source": [
    "train_accuracy = evaluate_model(model, X_train, y_train, verbose=True)\n",
    "train_accuracy"
   ]
  },
  {
   "cell_type": "code",
   "execution_count": 111,
   "id": "614eb27c",
   "metadata": {},
   "outputs": [
    {
     "name": "stdout",
     "output_type": "stream",
     "text": [
      "Dropping Feature: industry\n",
      "Dropping Feature: employment_status\n",
      "Dropping Feature: lead_score\n"
     ]
    },
    {
     "data": {
      "application/vnd.microsoft.datawrangler.viewer.v0+json": {
       "columns": [
        {
         "name": "index",
         "rawType": "object",
         "type": "string"
        },
        {
         "name": "accuracy",
         "rawType": "float64",
         "type": "float"
        },
        {
         "name": "difference",
         "rawType": "float64",
         "type": "float"
        }
       ],
       "ref": "542389a7-0f4e-49ba-ac2f-0c0787e611c4",
       "rows": [
        [
         "base",
         "0.7385844748858448",
         "0.0"
        ],
        [
         "without_industry",
         "0.7408675799086758",
         "0.0022831050228310223"
        ],
        [
         "without_employment_status",
         "0.7351598173515982",
         "-0.003424657534246589"
        ],
        [
         "without_lead_score",
         "0.7420091324200914",
         "0.003424657534246589"
        ]
       ],
       "shape": {
        "columns": 2,
        "rows": 4
       }
      },
      "text/html": [
       "<div>\n",
       "<style scoped>\n",
       "    .dataframe tbody tr th:only-of-type {\n",
       "        vertical-align: middle;\n",
       "    }\n",
       "\n",
       "    .dataframe tbody tr th {\n",
       "        vertical-align: top;\n",
       "    }\n",
       "\n",
       "    .dataframe thead th {\n",
       "        text-align: right;\n",
       "    }\n",
       "</style>\n",
       "<table border=\"1\" class=\"dataframe\">\n",
       "  <thead>\n",
       "    <tr style=\"text-align: right;\">\n",
       "      <th></th>\n",
       "      <th>accuracy</th>\n",
       "      <th>difference</th>\n",
       "    </tr>\n",
       "  </thead>\n",
       "  <tbody>\n",
       "    <tr>\n",
       "      <th>base</th>\n",
       "      <td>0.738584</td>\n",
       "      <td>0.000000</td>\n",
       "    </tr>\n",
       "    <tr>\n",
       "      <th>without_industry</th>\n",
       "      <td>0.740868</td>\n",
       "      <td>0.002283</td>\n",
       "    </tr>\n",
       "    <tr>\n",
       "      <th>without_employment_status</th>\n",
       "      <td>0.735160</td>\n",
       "      <td>-0.003425</td>\n",
       "    </tr>\n",
       "    <tr>\n",
       "      <th>without_lead_score</th>\n",
       "      <td>0.742009</td>\n",
       "      <td>0.003425</td>\n",
       "    </tr>\n",
       "  </tbody>\n",
       "</table>\n",
       "</div>"
      ],
      "text/plain": [
       "                           accuracy  difference\n",
       "base                       0.738584    0.000000\n",
       "without_industry           0.740868    0.002283\n",
       "without_employment_status  0.735160   -0.003425\n",
       "without_lead_score         0.742009    0.003425"
      ]
     },
     "execution_count": 111,
     "metadata": {},
     "output_type": "execute_result"
    }
   ],
   "source": [
    "# Question 5: Find the useful feature with feature extraction\n",
    "features = [\"industry\", \"employment_status\", \"lead_score\"]\n",
    "    \n",
    "    \n",
    "def compare_accuracies(X, y, features_list, previous_accuracy):\n",
    "    accuracies = {\"base\": previous_accuracy}\n",
    "\n",
    "    for feature in features_list:\n",
    "        print(f\"Dropping Feature: {feature}\")\n",
    "        X_dropped = drop_columns(X, feature, verbose=False)        \n",
    "        model = train_logistic_regression( X_dropped, y, verbose=False)\n",
    "        accuracy_score = evaluate_model(model, X_dropped, y, verbose=False)\n",
    "        accuracies[f\"without_{feature}\"] = accuracy_score\n",
    "\n",
    "    accuracies_df = pd.DataFrame.from_dict(accuracies, orient='index', columns=['accuracy'])\n",
    "    accuracies_df['difference'] = accuracies_df['accuracy'] - previous_accuracy\n",
    "    return accuracies_df\n",
    "\n",
    "accuracies_df = compare_accuracies(X_train, y_train, features, train_accuracy)\n",
    "accuracies_df  "
   ]
  },
  {
   "cell_type": "code",
   "execution_count": 112,
   "id": "de632b1b",
   "metadata": {},
   "outputs": [
    {
     "name": "stdout",
     "output_type": "stream",
     "text": [
      "Fitting 5 folds for each of 5 candidates, totalling 25 fits\n",
      "Best parameters: {'C': 0.1}\n",
      "Best cross-validation score: 0.737\n"
     ]
    }
   ],
   "source": [
    "# Question 6: Training a regularized logistic regression\n",
    "param_grid = { \"C\": [0.01, 0.1, 1, 10, 100] }\n",
    "\n",
    "x_full_train, y_full_train = pd.concat([X_train, X_val]), pd.concat([y_train, y_val])\n",
    "\n",
    "model = train_logistic_regression(x_full_train, y_full_train, model_type=\"grid_search\", params_grid=param_grid, verbose=True)\n"
   ]
  }
 ],
 "metadata": {
  "kernelspec": {
   "display_name": "ml-zoomcamp",
   "language": "python",
   "name": "python3"
  },
  "language_info": {
   "codemirror_mode": {
    "name": "ipython",
    "version": 3
   },
   "file_extension": ".py",
   "mimetype": "text/x-python",
   "name": "python",
   "nbconvert_exporter": "python",
   "pygments_lexer": "ipython3",
   "version": "3.13.7"
  }
 },
 "nbformat": 4,
 "nbformat_minor": 5
}
